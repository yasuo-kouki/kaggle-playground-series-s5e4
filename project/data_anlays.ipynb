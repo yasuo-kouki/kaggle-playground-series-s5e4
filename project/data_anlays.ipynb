{
 "cells": [
  {
   "cell_type": "markdown",
   "metadata": {},
   "source": [
    "# DATAの分析"
   ]
  },
  {
   "cell_type": "markdown",
   "metadata": {},
   "source": [
    "#### 交通事故リスク予測データセット\n",
    "\n",
    "| 英語 | 日本語 |\n",
    "|------|--------|\n",
    "| **id** | ID |\n",
    "| **road_type** | 道路タイプ |\n",
    "| **num_lanes** | 車線数 |\n",
    "| **curvature** | 曲率 |\n",
    "| **speed_limit** | 制限速度 |\n",
    "| **lighting** | 照明 |\n",
    "| **weather** | 天候 |\n",
    "| **road_signs_present** | 道路標識の有無 |\n",
    "| **public_road** | 公道 |\n",
    "| **time_of_day** | 時間帯 |\n",
    "| **holiday** | 休日 |\n",
    "| **school_season** | 学期期間 |\n",
    "| **num_reported_accidents** | 報告事故件数 |\n",
    "| **accident_risk** | 事故リスク |"
   ]
  },
  {
   "cell_type": "code",
   "execution_count": 19,
   "metadata": {},
   "outputs": [],
   "source": [
    "import numpy as np\n",
    "import pandas as pd\n",
    "import seaborn as sns\n",
    "import matplotlib.pyplot as plt"
   ]
  },
  {
   "cell_type": "code",
   "execution_count": 8,
   "metadata": {},
   "outputs": [],
   "source": [
    "train = pd.read_csv(\"../data/train.csv\")\n",
    "predict = pd.read_csv(\"../data/test.csv\")"
   ]
  },
  {
   "cell_type": "code",
   "execution_count": 18,
   "metadata": {},
   "outputs": [
    {
     "data": {
      "text/html": [
       "<div>\n",
       "<style scoped>\n",
       "    .dataframe tbody tr th:only-of-type {\n",
       "        vertical-align: middle;\n",
       "    }\n",
       "\n",
       "    .dataframe tbody tr th {\n",
       "        vertical-align: top;\n",
       "    }\n",
       "\n",
       "    .dataframe thead th {\n",
       "        text-align: right;\n",
       "    }\n",
       "</style>\n",
       "<table border=\"1\" class=\"dataframe\">\n",
       "  <thead>\n",
       "    <tr style=\"text-align: right;\">\n",
       "      <th></th>\n",
       "      <th>id</th>\n",
       "      <th>road_type</th>\n",
       "      <th>num_lanes</th>\n",
       "      <th>curvature</th>\n",
       "      <th>speed_limit</th>\n",
       "      <th>lighting</th>\n",
       "      <th>weather</th>\n",
       "      <th>road_signs_present</th>\n",
       "      <th>public_road</th>\n",
       "      <th>time_of_day</th>\n",
       "      <th>holiday</th>\n",
       "      <th>school_season</th>\n",
       "      <th>num_reported_accidents</th>\n",
       "      <th>accident_risk</th>\n",
       "    </tr>\n",
       "  </thead>\n",
       "  <tbody>\n",
       "    <tr>\n",
       "      <th>0</th>\n",
       "      <td>0</td>\n",
       "      <td>urban</td>\n",
       "      <td>2</td>\n",
       "      <td>0.06</td>\n",
       "      <td>35</td>\n",
       "      <td>daylight</td>\n",
       "      <td>rainy</td>\n",
       "      <td>False</td>\n",
       "      <td>True</td>\n",
       "      <td>afternoon</td>\n",
       "      <td>False</td>\n",
       "      <td>True</td>\n",
       "      <td>1</td>\n",
       "      <td>0.13</td>\n",
       "    </tr>\n",
       "    <tr>\n",
       "      <th>1</th>\n",
       "      <td>1</td>\n",
       "      <td>urban</td>\n",
       "      <td>4</td>\n",
       "      <td>0.99</td>\n",
       "      <td>35</td>\n",
       "      <td>daylight</td>\n",
       "      <td>clear</td>\n",
       "      <td>True</td>\n",
       "      <td>False</td>\n",
       "      <td>evening</td>\n",
       "      <td>True</td>\n",
       "      <td>True</td>\n",
       "      <td>0</td>\n",
       "      <td>0.35</td>\n",
       "    </tr>\n",
       "    <tr>\n",
       "      <th>2</th>\n",
       "      <td>2</td>\n",
       "      <td>rural</td>\n",
       "      <td>4</td>\n",
       "      <td>0.63</td>\n",
       "      <td>70</td>\n",
       "      <td>dim</td>\n",
       "      <td>clear</td>\n",
       "      <td>False</td>\n",
       "      <td>True</td>\n",
       "      <td>morning</td>\n",
       "      <td>True</td>\n",
       "      <td>False</td>\n",
       "      <td>2</td>\n",
       "      <td>0.30</td>\n",
       "    </tr>\n",
       "    <tr>\n",
       "      <th>3</th>\n",
       "      <td>3</td>\n",
       "      <td>highway</td>\n",
       "      <td>4</td>\n",
       "      <td>0.07</td>\n",
       "      <td>35</td>\n",
       "      <td>dim</td>\n",
       "      <td>rainy</td>\n",
       "      <td>True</td>\n",
       "      <td>True</td>\n",
       "      <td>morning</td>\n",
       "      <td>False</td>\n",
       "      <td>False</td>\n",
       "      <td>1</td>\n",
       "      <td>0.21</td>\n",
       "    </tr>\n",
       "    <tr>\n",
       "      <th>4</th>\n",
       "      <td>4</td>\n",
       "      <td>rural</td>\n",
       "      <td>1</td>\n",
       "      <td>0.58</td>\n",
       "      <td>60</td>\n",
       "      <td>daylight</td>\n",
       "      <td>foggy</td>\n",
       "      <td>False</td>\n",
       "      <td>False</td>\n",
       "      <td>evening</td>\n",
       "      <td>True</td>\n",
       "      <td>False</td>\n",
       "      <td>1</td>\n",
       "      <td>0.56</td>\n",
       "    </tr>\n",
       "  </tbody>\n",
       "</table>\n",
       "</div>"
      ],
      "text/plain": [
       "   id road_type  num_lanes  curvature  speed_limit  lighting weather  \\\n",
       "0   0     urban          2       0.06           35  daylight   rainy   \n",
       "1   1     urban          4       0.99           35  daylight   clear   \n",
       "2   2     rural          4       0.63           70       dim   clear   \n",
       "3   3   highway          4       0.07           35       dim   rainy   \n",
       "4   4     rural          1       0.58           60  daylight   foggy   \n",
       "\n",
       "   road_signs_present  public_road time_of_day  holiday  school_season  \\\n",
       "0               False         True   afternoon    False           True   \n",
       "1                True        False     evening     True           True   \n",
       "2               False         True     morning     True          False   \n",
       "3                True         True     morning    False          False   \n",
       "4               False        False     evening     True          False   \n",
       "\n",
       "   num_reported_accidents  accident_risk  \n",
       "0                       1           0.13  \n",
       "1                       0           0.35  \n",
       "2                       2           0.30  \n",
       "3                       1           0.21  \n",
       "4                       1           0.56  "
      ]
     },
     "execution_count": 18,
     "metadata": {},
     "output_type": "execute_result"
    }
   ],
   "source": [
    "train.head()"
   ]
  },
  {
   "cell_type": "code",
   "execution_count": 5,
   "metadata": {},
   "outputs": [
    {
     "name": "stdout",
     "output_type": "stream",
     "text": [
      "<class 'pandas.core.frame.DataFrame'>\n",
      "RangeIndex: 517754 entries, 0 to 517753\n",
      "Data columns (total 14 columns):\n",
      " #   Column                  Non-Null Count   Dtype  \n",
      "---  ------                  --------------   -----  \n",
      " 0   id                      517754 non-null  int64  \n",
      " 1   road_type               517754 non-null  object \n",
      " 2   num_lanes               517754 non-null  int64  \n",
      " 3   curvature               517754 non-null  float64\n",
      " 4   speed_limit             517754 non-null  int64  \n",
      " 5   lighting                517754 non-null  object \n",
      " 6   weather                 517754 non-null  object \n",
      " 7   road_signs_present      517754 non-null  bool   \n",
      " 8   public_road             517754 non-null  bool   \n",
      " 9   time_of_day             517754 non-null  object \n",
      " 10  holiday                 517754 non-null  bool   \n",
      " 11  school_season           517754 non-null  bool   \n",
      " 12  num_reported_accidents  517754 non-null  int64  \n",
      " 13  accident_risk           517754 non-null  float64\n",
      "dtypes: bool(4), float64(2), int64(4), object(4)\n",
      "memory usage: 41.5+ MB\n"
     ]
    }
   ],
   "source": [
    "train.info()"
   ]
  },
  {
   "cell_type": "code",
   "execution_count": 9,
   "metadata": {},
   "outputs": [
    {
     "name": "stdout",
     "output_type": "stream",
     "text": [
      "<class 'pandas.core.frame.DataFrame'>\n",
      "RangeIndex: 172585 entries, 0 to 172584\n",
      "Data columns (total 13 columns):\n",
      " #   Column                  Non-Null Count   Dtype  \n",
      "---  ------                  --------------   -----  \n",
      " 0   id                      172585 non-null  int64  \n",
      " 1   road_type               172585 non-null  object \n",
      " 2   num_lanes               172585 non-null  int64  \n",
      " 3   curvature               172585 non-null  float64\n",
      " 4   speed_limit             172585 non-null  int64  \n",
      " 5   lighting                172585 non-null  object \n",
      " 6   weather                 172585 non-null  object \n",
      " 7   road_signs_present      172585 non-null  bool   \n",
      " 8   public_road             172585 non-null  bool   \n",
      " 9   time_of_day             172585 non-null  object \n",
      " 10  holiday                 172585 non-null  bool   \n",
      " 11  school_season           172585 non-null  bool   \n",
      " 12  num_reported_accidents  172585 non-null  int64  \n",
      "dtypes: bool(4), float64(1), int64(4), object(4)\n",
      "memory usage: 12.5+ MB\n"
     ]
    }
   ],
   "source": [
    "predict.info()"
   ]
  },
  {
   "cell_type": "code",
   "execution_count": 11,
   "metadata": {},
   "outputs": [
    {
     "data": {
      "text/html": [
       "<div>\n",
       "<style scoped>\n",
       "    .dataframe tbody tr th:only-of-type {\n",
       "        vertical-align: middle;\n",
       "    }\n",
       "\n",
       "    .dataframe tbody tr th {\n",
       "        vertical-align: top;\n",
       "    }\n",
       "\n",
       "    .dataframe thead th {\n",
       "        text-align: right;\n",
       "    }\n",
       "</style>\n",
       "<table border=\"1\" class=\"dataframe\">\n",
       "  <thead>\n",
       "    <tr style=\"text-align: right;\">\n",
       "      <th></th>\n",
       "      <th>count</th>\n",
       "      <th>mean</th>\n",
       "      <th>std</th>\n",
       "      <th>min</th>\n",
       "      <th>25%</th>\n",
       "      <th>50%</th>\n",
       "      <th>75%</th>\n",
       "      <th>max</th>\n",
       "    </tr>\n",
       "  </thead>\n",
       "  <tbody>\n",
       "    <tr>\n",
       "      <th>id</th>\n",
       "      <td>517754.0</td>\n",
       "      <td>258876.500000</td>\n",
       "      <td>149462.849975</td>\n",
       "      <td>0.0</td>\n",
       "      <td>129438.25</td>\n",
       "      <td>258876.50</td>\n",
       "      <td>388314.75</td>\n",
       "      <td>517753.0</td>\n",
       "    </tr>\n",
       "    <tr>\n",
       "      <th>num_lanes</th>\n",
       "      <td>517754.0</td>\n",
       "      <td>2.491511</td>\n",
       "      <td>1.120434</td>\n",
       "      <td>1.0</td>\n",
       "      <td>1.00</td>\n",
       "      <td>2.00</td>\n",
       "      <td>3.00</td>\n",
       "      <td>4.0</td>\n",
       "    </tr>\n",
       "    <tr>\n",
       "      <th>curvature</th>\n",
       "      <td>517754.0</td>\n",
       "      <td>0.488719</td>\n",
       "      <td>0.272563</td>\n",
       "      <td>0.0</td>\n",
       "      <td>0.26</td>\n",
       "      <td>0.51</td>\n",
       "      <td>0.71</td>\n",
       "      <td>1.0</td>\n",
       "    </tr>\n",
       "    <tr>\n",
       "      <th>speed_limit</th>\n",
       "      <td>517754.0</td>\n",
       "      <td>46.112575</td>\n",
       "      <td>15.788521</td>\n",
       "      <td>25.0</td>\n",
       "      <td>35.00</td>\n",
       "      <td>45.00</td>\n",
       "      <td>60.00</td>\n",
       "      <td>70.0</td>\n",
       "    </tr>\n",
       "    <tr>\n",
       "      <th>num_reported_accidents</th>\n",
       "      <td>517754.0</td>\n",
       "      <td>1.187970</td>\n",
       "      <td>0.895961</td>\n",
       "      <td>0.0</td>\n",
       "      <td>1.00</td>\n",
       "      <td>1.00</td>\n",
       "      <td>2.00</td>\n",
       "      <td>7.0</td>\n",
       "    </tr>\n",
       "    <tr>\n",
       "      <th>accident_risk</th>\n",
       "      <td>517754.0</td>\n",
       "      <td>0.352377</td>\n",
       "      <td>0.166417</td>\n",
       "      <td>0.0</td>\n",
       "      <td>0.23</td>\n",
       "      <td>0.34</td>\n",
       "      <td>0.46</td>\n",
       "      <td>1.0</td>\n",
       "    </tr>\n",
       "  </tbody>\n",
       "</table>\n",
       "</div>"
      ],
      "text/plain": [
       "                           count           mean            std   min  \\\n",
       "id                      517754.0  258876.500000  149462.849975   0.0   \n",
       "num_lanes               517754.0       2.491511       1.120434   1.0   \n",
       "curvature               517754.0       0.488719       0.272563   0.0   \n",
       "speed_limit             517754.0      46.112575      15.788521  25.0   \n",
       "num_reported_accidents  517754.0       1.187970       0.895961   0.0   \n",
       "accident_risk           517754.0       0.352377       0.166417   0.0   \n",
       "\n",
       "                              25%        50%        75%       max  \n",
       "id                      129438.25  258876.50  388314.75  517753.0  \n",
       "num_lanes                    1.00       2.00       3.00       4.0  \n",
       "curvature                    0.26       0.51       0.71       1.0  \n",
       "speed_limit                 35.00      45.00      60.00      70.0  \n",
       "num_reported_accidents       1.00       1.00       2.00       7.0  \n",
       "accident_risk                0.23       0.34       0.46       1.0  "
      ]
     },
     "execution_count": 11,
     "metadata": {},
     "output_type": "execute_result"
    }
   ],
   "source": [
    "train.describe().T"
   ]
  },
  {
   "cell_type": "code",
   "execution_count": 12,
   "metadata": {},
   "outputs": [
    {
     "data": {
      "text/html": [
       "<div>\n",
       "<style scoped>\n",
       "    .dataframe tbody tr th:only-of-type {\n",
       "        vertical-align: middle;\n",
       "    }\n",
       "\n",
       "    .dataframe tbody tr th {\n",
       "        vertical-align: top;\n",
       "    }\n",
       "\n",
       "    .dataframe thead th {\n",
       "        text-align: right;\n",
       "    }\n",
       "</style>\n",
       "<table border=\"1\" class=\"dataframe\">\n",
       "  <thead>\n",
       "    <tr style=\"text-align: right;\">\n",
       "      <th></th>\n",
       "      <th>count</th>\n",
       "      <th>mean</th>\n",
       "      <th>std</th>\n",
       "      <th>min</th>\n",
       "      <th>25%</th>\n",
       "      <th>50%</th>\n",
       "      <th>75%</th>\n",
       "      <th>max</th>\n",
       "    </tr>\n",
       "  </thead>\n",
       "  <tbody>\n",
       "    <tr>\n",
       "      <th>id</th>\n",
       "      <td>172585.0</td>\n",
       "      <td>604046.000000</td>\n",
       "      <td>49821.142441</td>\n",
       "      <td>517754.0</td>\n",
       "      <td>560900.00</td>\n",
       "      <td>604046.00</td>\n",
       "      <td>647192.00</td>\n",
       "      <td>690338.0</td>\n",
       "    </tr>\n",
       "    <tr>\n",
       "      <th>num_lanes</th>\n",
       "      <td>172585.0</td>\n",
       "      <td>2.494046</td>\n",
       "      <td>1.119148</td>\n",
       "      <td>1.0</td>\n",
       "      <td>1.00</td>\n",
       "      <td>2.00</td>\n",
       "      <td>3.00</td>\n",
       "      <td>4.0</td>\n",
       "    </tr>\n",
       "    <tr>\n",
       "      <th>curvature</th>\n",
       "      <td>172585.0</td>\n",
       "      <td>0.487263</td>\n",
       "      <td>0.272343</td>\n",
       "      <td>0.0</td>\n",
       "      <td>0.26</td>\n",
       "      <td>0.51</td>\n",
       "      <td>0.71</td>\n",
       "      <td>1.0</td>\n",
       "    </tr>\n",
       "    <tr>\n",
       "      <th>speed_limit</th>\n",
       "      <td>172585.0</td>\n",
       "      <td>46.102761</td>\n",
       "      <td>15.787077</td>\n",
       "      <td>25.0</td>\n",
       "      <td>35.00</td>\n",
       "      <td>45.00</td>\n",
       "      <td>60.00</td>\n",
       "      <td>70.0</td>\n",
       "    </tr>\n",
       "    <tr>\n",
       "      <th>num_reported_accidents</th>\n",
       "      <td>172585.0</td>\n",
       "      <td>1.186059</td>\n",
       "      <td>0.897161</td>\n",
       "      <td>0.0</td>\n",
       "      <td>1.00</td>\n",
       "      <td>1.00</td>\n",
       "      <td>2.00</td>\n",
       "      <td>7.0</td>\n",
       "    </tr>\n",
       "  </tbody>\n",
       "</table>\n",
       "</div>"
      ],
      "text/plain": [
       "                           count           mean           std       min  \\\n",
       "id                      172585.0  604046.000000  49821.142441  517754.0   \n",
       "num_lanes               172585.0       2.494046      1.119148       1.0   \n",
       "curvature               172585.0       0.487263      0.272343       0.0   \n",
       "speed_limit             172585.0      46.102761     15.787077      25.0   \n",
       "num_reported_accidents  172585.0       1.186059      0.897161       0.0   \n",
       "\n",
       "                              25%        50%        75%       max  \n",
       "id                      560900.00  604046.00  647192.00  690338.0  \n",
       "num_lanes                    1.00       2.00       3.00       4.0  \n",
       "curvature                    0.26       0.51       0.71       1.0  \n",
       "speed_limit                 35.00      45.00      60.00      70.0  \n",
       "num_reported_accidents       1.00       1.00       2.00       7.0  "
      ]
     },
     "execution_count": 12,
     "metadata": {},
     "output_type": "execute_result"
    }
   ],
   "source": [
    "predict.describe().T"
   ]
  },
  {
   "cell_type": "code",
   "execution_count": 16,
   "metadata": {},
   "outputs": [
    {
     "data": {
      "text/plain": [
       "id                        517754\n",
       "road_type                      3\n",
       "num_lanes                      4\n",
       "curvature                    261\n",
       "speed_limit                    5\n",
       "lighting                       3\n",
       "weather                        3\n",
       "road_signs_present             2\n",
       "public_road                    2\n",
       "time_of_day                    3\n",
       "holiday                        2\n",
       "school_season                  2\n",
       "num_reported_accidents         8\n",
       "accident_risk                 98\n",
       "dtype: int64"
      ]
     },
     "execution_count": 16,
     "metadata": {},
     "output_type": "execute_result"
    }
   ],
   "source": [
    "train.nunique()"
   ]
  },
  {
   "cell_type": "code",
   "execution_count": 17,
   "metadata": {},
   "outputs": [
    {
     "data": {
      "text/plain": [
       "id                        172585\n",
       "road_type                      3\n",
       "num_lanes                      4\n",
       "curvature                    195\n",
       "speed_limit                    5\n",
       "lighting                       3\n",
       "weather                        3\n",
       "road_signs_present             2\n",
       "public_road                    2\n",
       "time_of_day                    3\n",
       "holiday                        2\n",
       "school_season                  2\n",
       "num_reported_accidents         8\n",
       "dtype: int64"
      ]
     },
     "execution_count": 17,
     "metadata": {},
     "output_type": "execute_result"
    }
   ],
   "source": [
    "predict.nunique()"
   ]
  },
  {
   "cell_type": "code",
   "execution_count": 39,
   "metadata": {},
   "outputs": [
    {
     "data": {
      "image/png": "[encoded data removed]",
      "text/plain": [
       "<Figure size 1400x600 with 2 Axes>"
      ]
     },
     "metadata": {},
     "output_type": "display_data"
    }
   ],
   "source": [
    "# subplots(行，列，figsize=(幅，高さ))\n",
    "fig,axs = plt.subplots(1,2,figsize=(14,6))\n",
    "\n",
    "# histplot(データ, kde=True(カーネル密度推定), bins=ビンの数, ax=描画する場所)\n",
    "sns.histplot(train['curvature'].dropna(),ax=axs[0])\n",
    "axs[0].set_title('train_curvature_distribution')\n",
    "\n",
    "sns.histplot(predict['curvature'].dropna(),ax=axs[1])\n",
    "axs[1].set_title('predict_curvature_distribution')\n",
    "\n",
    "# tight_layout()でレイアウトを調整\n",
    "plt.tight_layout()\n",
    "plt.show()"
   ]
  },
  {
   "cell_type": "code",
   "execution_count": 41,
   "metadata": {},
   "outputs": [
    {
     "data": {
      "image/png": "[encoded data removed]",
      "text/plain": [
       "<Figure size 1400x600 with 2 Axes>"
      ]
     },
     "metadata": {},
     "output_type": "display_data"
    }
   ],
   "source": [
    "fig,axs = plt.subplots(1,2,figsize=(14,6))\n",
    "\n",
    "sns.histplot(train['num_reported_accidents'].dropna(),ax=axs[0])\n",
    "axs[0].set_title('train_num_reported_accidents_distribution')\n",
    "\n",
    "sns.histplot(predict['num_reported_accidents'].dropna(),ax=axs[1])\n",
    "axs[1].set_title('predict_num_reported_accidents_distribution')\n",
    "\n",
    "plt.tight_layout()\n",
    "plt.show()"
   ]
  },
  {
   "cell_type": "markdown",
   "metadata": {},
   "source": [
    "欠損値はなし\n",
    "\n",
    "異常値と見られるものはなし"
   ]
  }
 ],
 "metadata": {
  "kernelspec": {
   "display_name": "myenv",
   "language": "python",
   "name": "python3"
  },
  "language_info": {
   "codemirror_mode": {
    "name": "ipython",
    "version": 3
   },
   "file_extension": ".py",
   "mimetype": "text/x-python",
   "name": "python",
   "nbconvert_exporter": "python",
   "pygments_lexer": "ipython3",
   "version": "3.12.7"
  }
 },
 "nbformat": 4,
 "nbformat_minor": 2
}
